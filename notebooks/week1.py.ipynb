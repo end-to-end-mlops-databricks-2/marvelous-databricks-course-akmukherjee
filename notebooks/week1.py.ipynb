{
 "cells": [
  {
   "cell_type": "code",
   "execution_count": 0,
   "metadata": {
    "application/vnd.databricks.v1+cell": {
     "cellMetadata": {
      "byteLimit": 2048000,
      "rowLimit": 10000
     },
     "inputWidgets": {},
     "nuid": "d9cdf425-39e1-415d-b965-aba9f56f4c91",
     "showTitle": false,
     "tableResultSettingsMap": {},
     "title": ""
    }
   },
   "outputs": [],
   "source": [
    "import sys\n",
    "import os\n",
    "import yaml\n",
    "#sys.path.append(os.path.abspath(\"../src\"))  # Add the src directory specifically\n",
    "\n",
    "from hotel_reservation.data_processor import DataProcessor"
   ]
  },
  {
   "cell_type": "code",
   "execution_count": 0,
   "metadata": {
    "application/vnd.databricks.v1+cell": {
     "cellMetadata": {
      "byteLimit": 2048000,
      "rowLimit": 10000
     },
     "inputWidgets": {},
     "nuid": "452d48a7-50ed-460f-ad46-e9d7623e6921",
     "showTitle": false,
     "tableResultSettingsMap": {},
     "title": ""
    }
   },
   "outputs": [],
   "source": [
    "from hotel_reservation.config import ProjectConfig\n",
    "\n",
    "\n",
    "# Construct the path to config file\n",
    "config_path = '../project_config.yml'\n",
    "\n",
    "# Load configuration\n",
    "config = ProjectConfig.from_yaml(config_path=str(config_path))\n",
    "\n",
    "print(\"Configuration loaded:\")\n",
    "print(yaml.dump(config, default_flow_style=False))"
   ]
  }
 ],
 "metadata": {
  "application/vnd.databricks.v1+notebook": {
   "computePreferences": null,
   "dashboards": [],
   "environmentMetadata": {
    "base_environment": "",
    "client": "2"
   },
   "language": "python",
   "notebookMetadata": {
    "pythonIndentUnit": 4
   },
   "notebookName": "week1.py",
   "widgets": {}
  },
  "language_info": {
   "name": "python"
  }
 },
 "nbformat": 4,
 "nbformat_minor": 0
}
