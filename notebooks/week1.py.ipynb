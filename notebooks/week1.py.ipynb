{
 "cells": [
  {
   "cell_type": "code",
   "execution_count": 2,
   "metadata": {
    "application/vnd.databricks.v1+cell": {
     "cellMetadata": {
      "byteLimit": 2048000,
      "rowLimit": 10000
     },
     "inputWidgets": {},
     "nuid": "d9cdf425-39e1-415d-b965-aba9f56f4c91",
     "showTitle": false,
     "tableResultSettingsMap": {},
     "title": ""
    }
   },
   "outputs": [],
   "source": [
    "import sys\n",
    "import os\n",
    "import yaml\n",
    "sys.path.append(os.path.abspath(\"../src\"))  # Add the src directory specifically\n",
    "\n",
    "from hotel_reservation.data_processor import DataProcessor"
   ]
  },
  {
   "cell_type": "code",
   "execution_count": 3,
   "metadata": {
    "application/vnd.databricks.v1+cell": {
     "cellMetadata": {
      "byteLimit": 2048000,
      "rowLimit": 10000
     },
     "inputWidgets": {},
     "nuid": "452d48a7-50ed-460f-ad46-e9d7623e6921",
     "showTitle": false,
     "tableResultSettingsMap": {},
     "title": ""
    }
   },
   "outputs": [
    {
     "name": "stdout",
     "output_type": "stream",
     "text": [
      "Configuration loaded:\n",
      "!!python/object:hotel_reservation.config.ProjectConfig\n",
      "__dict__:\n",
      "  ab_test: {}\n",
      "  cat_features:\n",
      "  - type_of_meal_plan\n",
      "  - room_type_reserved\n",
      "  - market_segment_type\n",
      "  catalog_name: hotel_reservation\n",
      "  num_features:\n",
      "  - lead_time\n",
      "  - arrival_year\n",
      "  - arrival_month\n",
      "  - arrival_date\n",
      "  - no_of_adults\n",
      "  - no_of_children\n",
      "  - no_of_weekend_nights\n",
      "  - no_of_week_nights\n",
      "  - no_of_previous_cancellations\n",
      "  - no_of_previous_bookings_not_canceled\n",
      "  - avg_price_per_room\n",
      "  - no_of_special_requests\n",
      "  parameters:\n",
      "    learning_rate: 0.01\n",
      "    max_depth: 6\n",
      "    n_estimators: 1000\n",
      "  pipeline_id: pipeline-0123abcd\n",
      "  schema_name: pre_processed_data\n",
      "  target: booking_status\n",
      "__pydantic_extra__: null\n",
      "__pydantic_fields_set__: !!set\n",
      "  ab_test: null\n",
      "  cat_features: null\n",
      "  catalog_name: null\n",
      "  num_features: null\n",
      "  parameters: null\n",
      "  pipeline_id: null\n",
      "  schema_name: null\n",
      "  target: null\n",
      "__pydantic_private__: null\n",
      "\n"
     ]
    }
   ],
   "source": [
    "from hotel_reservation.config import ProjectConfig\n",
    "\n",
    "\n",
    "# Construct the path to config file\n",
    "config_path = '../project_config.yml'\n",
    "\n",
    "# Load configuration\n",
    "config = ProjectConfig.from_yaml(config_path=str(config_path))\n",
    "\n",
    "print(\"Configuration loaded:\")\n",
    "print(yaml.dump(config, default_flow_style=False))"
   ]
  }
 ],
 "metadata": {
  "application/vnd.databricks.v1+notebook": {
   "computePreferences": null,
   "dashboards": [],
   "environmentMetadata": {
    "base_environment": "",
    "client": "2"
   },
   "language": "python",
   "notebookMetadata": {
    "pythonIndentUnit": 4
   },
   "notebookName": "week1.py",
   "widgets": {}
  },
  "kernelspec": {
   "display_name": "venv",
   "language": "python",
   "name": "python3"
  },
  "language_info": {
   "codemirror_mode": {
    "name": "ipython",
    "version": 3
   },
   "file_extension": ".py",
   "mimetype": "text/x-python",
   "name": "python",
   "nbconvert_exporter": "python",
   "pygments_lexer": "ipython3",
   "version": "3.11.7"
  }
 },
 "nbformat": 4,
 "nbformat_minor": 0
}
